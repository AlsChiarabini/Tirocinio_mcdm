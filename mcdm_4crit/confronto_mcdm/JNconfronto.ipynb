{
 "cells": [
  {
   "cell_type": "markdown",
   "id": "07388167-dd46-461a-931b-90670f7a7f74",
   "metadata": {},
   "source": [
    "Import librerie"
   ]
  },
  {
   "cell_type": "code",
   "execution_count": null,
   "id": "0a9deb7f-a6c5-42f9-a98c-d662b25c907b",
   "metadata": {},
   "outputs": [],
   "source": [
    "import numpy as np\n",
    "import pandas as pd\n",
    "import matplotlib.pyplot as plt\n",
    "import seaborn as sns\n",
    "from scipy.stats import spearmanr, kendalltau\n",
    "import yfinance as yf\n",
    "import requests\n",
    "import os\n",
    "from io import StringIO\n",
    "\n",
    "# Importa i metodi MCDM da pymcdm\n",
    "from pymcdm.methods import TOPSIS, VIKOR, PROMETHEE_II"
   ]
  },
  {
   "cell_type": "markdown",
   "id": "678ace55-e2e8-426b-968d-a40afb2875b1",
   "metadata": {},
   "source": [
    "Download e preprocessing dei dati"
   ]
  },
  {
   "cell_type": "code",
   "execution_count": null,
   "id": "43f08c0b-5288-406a-89ae-4a0ae3de2d7c",
   "metadata": {},
   "outputs": [],
   "source": [
    "filename = \"sp500_data.csv\"\n",
    "if os.path.exists(filename):\n",
    "    print(f\"File {filename} trovato, non lo scarico di nuovo.\")\n",
    "else:\n",
    "    print(\"🔄 File non trovato, scarico i dati...\")\n",
    "\n",
    "    url = \"https://en.wikipedia.org/wiki/List_of_S%26P_500_companies\"\n",
    "    tables = pd.read_html(StringIO(requests.get(url).text))\n",
    "    sp500 = tables[0]\n",
    "    tickers = [symbol.replace(\".\", \"-\") for symbol in sp500[\"Symbol\"].tolist()]\n",
    "    valid_tickers = []\n",
    "    data = {}\n",
    "\n",
    "    for ticker in tickers:\n",
    "        try:\n",
    "            stock = yf.Ticker(ticker)\n",
    "            hist = stock.history(period='1y')\n",
    "            if hist.empty:\n",
    "                print(f\"⚠️ No data for {ticker}, skipping...\")\n",
    "                continue\n",
    "            info = stock.info\n",
    "            data[ticker] = {\n",
    "                \"MarketCap\": info.get(\"marketCap\", np.nan),\n",
    "                \"Momentum_6m\": hist[\"Close\"].pct_change(min(len(hist), 126)).iloc[-1] if len(hist) > 126 else np.nan,\n",
    "                \"Volatility\": hist[\"Close\"].pct_change().std() * (252 ** 0.5),\n",
    "                \"Return_6m\": hist[\"Close\"].pct_change(min(len(hist), 126)).iloc[-1] if len(hist) > 126 else np.nan,\n",
    "            }\n",
    "            valid_tickers.append(ticker)\n",
    "        except Exception as e:\n",
    "            print(f\"⚠️ Error processing {ticker}: {e}, skipping...\")\n",
    "            continue\n",
    "\n",
    "    df = pd.DataFrame.from_dict(data, orient=\"index\")\n",
    "    df.dropna(inplace=True)\n",
    "    df.to_csv(filename)\n",
    "    print(f\"✅ Dati salvati in '{filename}' per {len(valid_tickers)} aziende su {len(tickers)} disponibili.\")\n",
    "    \n",
    "    df = pd.read_csv(filename, index_col=0)\n",
    "    print(\"Matrice di valutazione, solo le prime 10:\")\n",
    "    print(df.head(10))"
   ]
  },
  {
   "cell_type": "markdown",
   "id": "b93d307f-b2e7-4cac-9ca3-15b185cb905b",
   "metadata": {},
   "source": [
    "Definizione Pesi, Tipi, e Metodi MCDM"
   ]
  },
  {
   "cell_type": "code",
   "execution_count": null,
   "id": "301e2bc1-5923-4293-ad6f-bbbe5e64e017",
   "metadata": {},
   "outputs": [],
   "source": [
    "df = pd.read_csv(filename, index_col=0)\n",
    "print(\"Matrice di valutazione, solo le prime 10:\")\n",
    "print(df.head(10))\n",
    "weights = np.array([0.1, 0.3, 0.4, 0.2])\n",
    "types = np.array([1, 1, -1, 1])\n",
    "TOP_N = 20\n",
    "\n",
    "topsis = TOPSIS()\n",
    "vikor = VIKOR(v=0.5)\n",
    "promethee = PROMETHEE_II(preference_function='usual')\n",
    "\n",
    "matrix = df.values\n",
    "norm_matrix = df / np.linalg.norm(matrix, axis=0)\n",
    "\n",
    "pref_topsis = topsis(norm_matrix, weights, types)\n",
    "rank_topsis = topsis.rank(pref_topsis)\n",
    "\n",
    "pref_vikor = vikor(norm_matrix, weights, types)\n",
    "rank_vikor = vikor.rank(pref_vikor)\n",
    "\n",
    "pref_promethee = promethee(norm_matrix.astype(float), weights.astype(float), types.astype(float))\n",
    "rank_promethee = promethee.rank(pref_promethee)\n",
    "\n",
    "results = pd.DataFrame({\n",
    "    'Alternative': [f'Alt_{i+1}' for i in range(df.shape[0])],\n",
    "    'Score_TOPSIS': pref_topsis,\n",
    "    'Rank_TOPSIS': rank_topsis,\n",
    "    'Score_VIKOR': pref_vikor,\n",
    "    'Rank_VIKOR': rank_vikor,\n",
    "    'Score_PROMETHEE': pref_promethee,\n",
    "    'Rank_PROMETHEE': rank_promethee\n",
    "})\n",
    "print(results.head())"
   ]
  },
  {
   "cell_type": "markdown",
   "id": "7a2a1700-bc1a-4ae8-b6c2-d6a615cb2ad6",
   "metadata": {},
   "source": [
    "Top N Classifica"
   ]
  },
  {
   "cell_type": "code",
   "execution_count": null,
   "id": "226ed257-360f-42e1-ab7a-8f5af5a62e81",
   "metadata": {},
   "outputs": [],
   "source": [
    "print(f\"--- Top {TOP_N} Ranking ---\")\n",
    "\n",
    "print(\"\\nTOPSIS:\")\n",
    "print(results.sort_values('Rank_TOPSIS').head(TOP_N)[['Alternative', 'Rank_TOPSIS', 'Score_TOPSIS']])\n",
    "\n",
    "print(\"\\nVIKOR:\")\n",
    "print(results.sort_values('Rank_VIKOR').head(TOP_N)[['Alternative', 'Rank_VIKOR', 'Score_VIKOR']])\n",
    "\n",
    "print(\"\\nPROMETHEE II:\")\n",
    "print(results.sort_values('Rank_PROMETHEE').head(TOP_N)[['Alternative', 'Rank_PROMETHEE', 'Score_PROMETHEE']])"
   ]
  },
  {
   "cell_type": "markdown",
   "id": "23894c42-74ac-4b0e-bfe7-f82a020213e7",
   "metadata": {},
   "source": [
    "Correlazione tra i ranking"
   ]
  },
  {
   "cell_type": "code",
   "execution_count": null,
   "id": "55775f72-e6f4-4f70-bf98-4c5ce480a0bd",
   "metadata": {},
   "outputs": [],
   "source": [
    "print(\"--- Correlazione tra Ranking ---\")\n",
    "spearman_topsis_vikor, _ = spearmanr(results['Rank_TOPSIS'], results['Rank_VIKOR'])\n",
    "kendall_topsis_vikor, _ = kendalltau(results['Rank_TOPSIS'], results['Rank_VIKOR'])\n",
    "print(f\"TOPSIS vs VIKOR: Spearman Rho = {spearman_topsis_vikor:.4f}, Kendall Tau = {kendall_topsis_vikor:.4f}\")\n",
    "\n",
    "spearman_topsis_promethee, _ = spearmanr(results['Rank_TOPSIS'], results['Rank_PROMETHEE'])\n",
    "kendall_topsis_promethee, _ = kendalltau(results['Rank_TOPSIS'], results['Rank_PROMETHEE'])\n",
    "print(f\"TOPSIS vs PROMETHEE II: Spearman Rho = {spearman_topsis_promethee:.4f}, Kendall Tau = {kendall_topsis_promethee:.4f}\")\n",
    "\n",
    "spearman_vikor_promethee, _ = spearmanr(results['Rank_VIKOR'], results['Rank_PROMETHEE'])\n",
    "kendall_vikor_promethee, _ = kendalltau(results['Rank_VIKOR'], results['Rank_PROMETHEE'])\n",
    "print(f\"VIKOR vs PROMETHEE II: Spearman Rho = {spearman_vikor_promethee:.4f}, Kendall Tau = {kendall_vikor_promethee:.4f}\")\n"
   ]
  },
  {
   "cell_type": "markdown",
   "id": "3c5b74e9-29b6-46e5-a6ca-081525c2bc48",
   "metadata": {},
   "source": [
    "Heatmap della correlazione tra ranking"
   ]
  },
  {
   "cell_type": "code",
   "execution_count": null,
   "id": "ebc620c9-430f-4909-bf8f-48c8567cbd0c",
   "metadata": {},
   "outputs": [],
   "source": [
    "corr_matrix = results[['Rank_TOPSIS', 'Rank_VIKOR', 'Rank_PROMETHEE']].corr(method='spearman')\n",
    "\n",
    "plt.figure(figsize=(6, 5))\n",
    "sns.heatmap(corr_matrix, annot=True, cmap='coolwarm', fmt=\".2f\")\n",
    "plt.title('Spearman Correlation between Rankings')\n",
    "plt.show()"
   ]
  },
  {
   "cell_type": "markdown",
   "id": "501884ca-7f74-47f1-86aa-cdb0b0ed651f",
   "metadata": {},
   "source": [
    "Scatter plot dei punteggi"
   ]
  },
  {
   "cell_type": "code",
   "execution_count": null,
   "id": "e9a2ef8e-3bff-469b-a84e-a8df98685171",
   "metadata": {},
   "outputs": [],
   "source": [
    "plt.figure(figsize=(18, 5))\n",
    "\n",
    "plt.subplot(1, 3, 1)\n",
    "sns.scatterplot(data=results, x='Score_TOPSIS', y='Score_VIKOR')\n",
    "plt.title('TOPSIS vs VIKOR Scores')\n",
    "plt.xlabel('TOPSIS Score (Higher is better)')\n",
    "plt.ylabel('VIKOR Score (Lower is better!)')\n",
    "plt.grid(True)\n",
    "\n",
    "plt.subplot(1, 3, 2)\n",
    "sns.scatterplot(data=results, x='Score_TOPSIS', y='Score_PROMETHEE')\n",
    "plt.title('TOPSIS vs PROMETHEE II Scores')\n",
    "plt.xlabel('TOPSIS Score (Higher is better)')\n",
    "plt.ylabel('PROMETHEE II Score (Higher is better)')\n",
    "plt.grid(True)\n",
    "\n",
    "plt.subplot(1, 3, 3)\n",
    "sns.scatterplot(data=results, x='Score_VIKOR', y='Score_PROMETHEE')\n",
    "plt.title('VIKOR vs PROMETHEE II Scores')\n",
    "plt.xlabel('VIKOR Score (Lower is better!)')\n",
    "plt.ylabel('PROMETHEE II Score (Higher is better)')\n",
    "plt.grid(True)\n",
    "\n",
    "plt.tight_layout()\n",
    "plt.show()"
   ]
  },
  {
   "cell_type": "markdown",
   "id": "2b55c20c-58d8-4971-9ab5-6e49b83282af",
   "metadata": {},
   "source": [
    "Analisi di sensibilità"
   ]
  },
  {
   "cell_type": "code",
   "execution_count": null,
   "id": "953785e1-7f45-417d-b1f7-9368b3956dd3",
   "metadata": {},
   "outputs": [],
   "source": [
    "print(\"--- Analisi di Sensibilità (Variazione Pesi) ---\")\n",
    "\n",
    "rank_topsis_orig = results['Rank_TOPSIS'].copy()\n",
    "rank_vikor_orig = results['Rank_VIKOR'].copy()\n",
    "rank_promethee_orig = results['Rank_PROMETHEE'].copy()\n",
    "\n",
    "weights_scen2 = weights.copy()\n",
    "delta = 0.05\n",
    "weights_scen2[0] += delta\n",
    "weights_scen2[1] -= delta\n",
    "weights_scen2 = np.clip(weights_scen2, 0.01, 0.99)\n",
    "weights_scen2 = weights_scen2 / np.sum(weights_scen2)\n",
    "\n",
    "print(f\"Scenario Sensibilità: Pesi = {weights_scen2}\")\n",
    "\n",
    "pref_topsis_s2 = topsis(matrix, weights_scen2, types)\n",
    "rank_topsis_s2 = topsis.rank(pref_topsis_s2)\n",
    "\n",
    "pref_vikor_s2 = vikor(matrix, weights_scen2, types)\n",
    "rank_vikor_s2 = vikor.rank(pref_vikor_s2)\n",
    "\n",
    "pref_promethee_s2 = promethee(matrix.astype(float), weights_scen2.astype(float), types.astype(float))\n",
    "rank_promethee_s2 = promethee.rank(pref_promethee_s2)\n",
    "\n",
    "stab_topsis, _ = spearmanr(rank_topsis_orig, rank_topsis_s2)\n",
    "stab_vikor, _ = spearmanr(rank_vikor_orig, rank_vikor_s2)\n",
    "stab_promethee, _ = spearmanr(rank_promethee_orig, rank_promethee_s2)\n",
    "\n",
    "print(f\"\\nStabilità Ranking (Spearman Rho con ranking originale):\")\n",
    "print(f\"TOPSIS: {stab_topsis:.4f}\")\n",
    "print(f\"VIKOR: {stab_vikor:.4f}\")\n",
    "print(f\"PROMETHEE II: {stab_promethee:.4f}\")"
   ]
  },
  {
   "cell_type": "markdown",
   "id": "72d1ec4d-c42c-49d0-a02c-e5d543476f87",
   "metadata": {},
   "source": [
    "Benchmark Tempi di Esecuzione"
   ]
  },
  {
   "cell_type": "code",
   "execution_count": null,
   "id": "9330ce7c-7417-4d68-8a9c-f948c8f8bba2",
   "metadata": {},
   "outputs": [],
   "source": [
    "import time\n",
    "\n",
    "def benchmark_method(method, matrix, weights, types, repeats=5):\n",
    "    times = []\n",
    "    for _ in range(repeats):\n",
    "        start = time.time()\n",
    "        _ = method(matrix, weights, types)\n",
    "        end = time.time()\n",
    "        times.append(end - start)\n",
    "    return np.mean(times) * 1000\n",
    "\n",
    "time_topsis = benchmark_method(topsis, norm_matrix, weights, types)\n",
    "time_vikor = benchmark_method(vikor, norm_matrix, weights, types)\n",
    "time_promethee = benchmark_method(promethee, norm_matrix.astype(float), weights.astype(float), types.astype(float))\n",
    "\n",
    "summary_table = pd.DataFrame({\n",
    "    'Metodo': ['TOPSIS', 'VIKOR', 'PROMETHEE II'],\n",
    "    'Tempo Medio (ms)': [time_topsis, time_vikor, time_promethee],\n",
    "    'Spearman Sensibilità (var pesi)': [stab_topsis, stab_vikor, stab_promethee],\n",
    "})\n",
    "\n",
    "summary_table = summary_table.sort_values(by='Tempo Medio (ms)')\n",
    "print(summary_table)\n",
    "\n",
    "summary_table.to_csv(\"summary_table_mcdm.csv\", index=False)\n",
    "print(\"✅ Tabella salvata in 'summary_table_mcdm.csv'\")"
   ]
  },
  {
   "cell_type": "markdown",
   "id": "e42274d1-d454-4a50-9017-a0ac1803b2a8",
   "metadata": {},
   "source": [
    "Bar plot tempi di esecuzione"
   ]
  },
  {
   "cell_type": "code",
   "execution_count": null,
   "id": "52fbda28-e7a6-4d52-9760-07585fcac2df",
   "metadata": {},
   "outputs": [],
   "source": [
    "plt.figure(figsize=(8, 5))\n",
    "ax = sns.barplot(\n",
    "    x=\"Tempo Medio (ms)\",\n",
    "    y=\"Metodo\",\n",
    "    hue=\"Metodo\",\n",
    "    data=summary_table,\n",
    "    palette=\"Blues_d\",\n",
    "    dodge=False,\n",
    "    legend=False\n",
    ")\n",
    "\n",
    "for container in ax.containers:\n",
    "    ax.bar_label(container, fmt=\"%.2f\", label_type=\"edge\", padding=3, fontsize=9)\n",
    "\n",
    "plt.title('Tempo Medio di Esecuzione per Metodo MCDM', fontsize=14)\n",
    "plt.xlabel('Tempo Medio (millisecondi)', fontsize=12)\n",
    "plt.ylabel('Metodo', fontsize=12)\n",
    "plt.grid(axis='x', linestyle='--', alpha=0.5)\n",
    "plt.tight_layout()\n",
    "plt.show()"
   ]
  },
  {
   "cell_type": "code",
   "execution_count": null,
   "id": "79c756d3-3651-4b4a-a11d-a8959f3b07f4",
   "metadata": {},
   "outputs": [],
   "source": []
  },
  {
   "cell_type": "code",
   "execution_count": null,
   "id": "61f9a9e9-6978-46f4-8614-f93fc6e10e71",
   "metadata": {},
   "outputs": [],
   "source": []
  }
 ],
 "metadata": {
  "kernelspec": {
   "display_name": "Python 3 (ipykernel)",
   "language": "python",
   "name": "python3"
  },
  "language_info": {
   "codemirror_mode": {
    "name": "ipython",
    "version": 3
   },
   "file_extension": ".py",
   "mimetype": "text/x-python",
   "name": "python",
   "nbconvert_exporter": "python",
   "pygments_lexer": "ipython3",
   "version": "3.13.2"
  }
 },
 "nbformat": 4,
 "nbformat_minor": 5
}
